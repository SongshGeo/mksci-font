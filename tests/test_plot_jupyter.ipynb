{
 "cells": [
  {
   "attachments": {},
   "cell_type": "markdown",
   "metadata": {},
   "source": [
    "# Jupyter 中使用中文 Matplotlib 测试"
   ]
  },
  {
   "cell_type": "code",
   "execution_count": null,
   "metadata": {},
   "outputs": [],
   "source": [
    "%load_ext autoreload\n",
    "%autoreload 2\n",
    "\n",
    "from matplotlib import pyplot as plt\n",
    "from mksci_font import mksci_font, show, config_font, update_font"
   ]
  },
  {
   "attachments": {},
   "cell_type": "markdown",
   "metadata": {},
   "source": [
    "字体 SunTimes 的合成来自于[这里](https://www.jianshu.com/p/4ad9b287535f)\n",
    "合成软件是 [FontForge](https://formulae.brew.sh/formula/fontforge)"
   ]
  },
  {
   "attachments": {},
   "cell_type": "markdown",
   "metadata": {},
   "source": [
    "## 单个函数修改"
   ]
  },
  {
   "cell_type": "code",
   "execution_count": null,
   "metadata": {},
   "outputs": [],
   "source": [
    "msg = \"让 Matplotlib 图件使用 \\n “中文宋体、英文 Times New Roman”\"\n",
    "mapping_string = {\"Origin title\": \"替换后的标题\"}\n",
    "\n",
    "\n",
    "@mksci_font(mapping_string, ylabel=\"覆盖原Y轴标签\")\n",
    "def plot():\n",
    "    _, ax = plt.subplots(figsize=(4, 3))\n",
    "    ax.text(0.5, 0.6, \"mksci-font 中文\", ha=\"center\")\n",
    "    ax.text(0.5, 0.3, msg, ha=\"center\")\n",
    "    ax.set_ylabel(\"will be replaced...\")  # will be replaced by '中文'\n",
    "    ax.set_xlabel(\"中文 & English & $TeX_{mode}$\")\n",
    "    ax.set_title(\"Origin title\")\n",
    "    return ax\n",
    "\n",
    "\n",
    "ax = plot()\n",
    "show()"
   ]
  },
  {
   "attachments": {},
   "cell_type": "markdown",
   "metadata": {},
   "source": [
    "## 更新已经生成的图片"
   ]
  },
  {
   "cell_type": "code",
   "execution_count": null,
   "metadata": {},
   "outputs": [],
   "source": [
    "_, ax = plt.subplots(figsize=(4, 3))\n",
    "ax.text(0.5, 0.6, \"mksci-font 中文\", ha=\"center\")\n",
    "ax.text(0.5, 0.3, msg, ha=\"center\")\n",
    "ax.set_ylabel(\"will be replaced...\")  # will be replaced by '中文'\n",
    "ax.set_xlabel(\"中文 & English & $TeX_{mode}$\")\n",
    "ax.set_title(\"Origin title\")\n",
    "\n",
    "# 更新已经生成的图件\n",
    "msg = \"让 Matplotlib 图件使用 \\n “中文宋体、英文 Times New Roman”\"\n",
    "mapping_string = {\"Origin title\": \"替换后的标题\"}\n",
    "update_font(ax, mapping_string, ylabel=\"覆盖原Y轴标签\")\n",
    "show();"
   ]
  },
  {
   "attachments": {},
   "cell_type": "markdown",
   "metadata": {},
   "source": [
    "## 更复杂的一个例子"
   ]
  },
  {
   "cell_type": "code",
   "execution_count": null,
   "metadata": {},
   "outputs": [],
   "source": [
    "import matplotlib.pyplot as plt\n",
    "\n",
    "# Create a simple figure with labels, title, and annotations\n",
    "fig, ax = plt.subplots(figsize=(4, 3))\n",
    "ax.plot([1, 2, 3], [2, 3, 1], label=\"Data 1\")\n",
    "ax.plot([1, 2, 3], [1, 2, 3], label=\"Data 2\")\n",
    "ax.set_xlabel(\"X Label\")\n",
    "ax.set_ylabel(\"Y Label\")\n",
    "ax.set_title(\"Title\")\n",
    "ax.text(1.5, 1.5, \"Annotation 1\")\n",
    "ax.annotate(\n",
    "    \"Annotation 2\",\n",
    "    xy=(2, 2),\n",
    "    xytext=(2.5, 2.5),\n",
    "    arrowprops=dict(facecolor=\"black\", shrink=0.05),\n",
    ")\n",
    "ax.legend(title=\"Legend\", loc=1)\n",
    "plt.show();"
   ]
  },
  {
   "cell_type": "code",
   "execution_count": null,
   "metadata": {},
   "outputs": [],
   "source": [
    "from mksci_font.font_wrapper import update_font\n",
    "\n",
    "# refresh = False, 仅将指定元素替换为中文\n",
    "updated_ax = update_font(ax, refresh=False, xlabel=\"X轴坐标\", ylabel=\"Y轴坐标\", title=\"标题\")\n",
    "updated_ax.figure"
   ]
  },
  {
   "attachments": {},
   "cell_type": "markdown",
   "metadata": {},
   "source": [
    "## 修改其它元素"
   ]
  },
  {
   "cell_type": "code",
   "execution_count": null,
   "metadata": {},
   "outputs": [],
   "source": [
    "mapping = {\"Annotation 1\": \"中文标注\", \"Data 1\": \"数据1\", \"Legend\": \"图例\"}\n",
    "\n",
    "# refresh = True, 将更新字体将作用于所有的文本对象\n",
    "new_ax = update_font(updated_ax, mapping_strings=mapping, refresh=True)\n",
    "new_ax.figure"
   ]
  },
  {
   "attachments": {},
   "cell_type": "markdown",
   "metadata": {},
   "source": [
    "## 修改配置"
   ]
  },
  {
   "cell_type": "code",
   "execution_count": null,
   "metadata": {},
   "outputs": [],
   "source": [
    "# 同时还可以修改字号，以及其它任何 rcParams 支持的属性\n",
    "config_font({\"font.size\": 12})\n",
    "\n",
    "_, ax = plt.subplots(figsize=(4, 1))\n",
    "ax.text(0.5, 0.5, msg, ha=\"center\", va=\"center\")\n",
    "plt.show();"
   ]
  }
 ],
 "metadata": {
  "kernelspec": {
   "display_name": ".venv",
   "language": "python",
   "name": "python3"
  },
  "language_info": {
   "codemirror_mode": {
    "name": "ipython",
    "version": 3
   },
   "file_extension": ".py",
   "mimetype": "text/x-python",
   "name": "python",
   "nbconvert_exporter": "python",
   "pygments_lexer": "ipython3",
   "version": "3.11.2"
  },
  "vscode": {
   "interpreter": {
    "hash": "667388982c6ddf987f2d865f3ba06949596bbfb154153fc7416a92156d0d5fc5"
   }
  }
 },
 "nbformat": 4,
 "nbformat_minor": 2
}

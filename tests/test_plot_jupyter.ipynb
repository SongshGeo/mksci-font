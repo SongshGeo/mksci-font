{
 "cells": [
  {
   "attachments": {},
   "cell_type": "markdown",
   "metadata": {},
   "source": [
    "# Jupyter 中使用中文 Matplotlib 测试"
   ]
  },
  {
   "cell_type": "code",
   "execution_count": null,
   "metadata": {},
   "outputs": [],
   "source": [
    "import matplotlib"
   ]
  }
 ],
 "metadata": {
  "kernelspec": {
   "display_name": ".venv",
   "language": "python",
   "name": "python3"
  },
  "language_info": {
   "name": "python",
   "version": "3.11.2"
  },
  "vscode": {
   "interpreter": {
    "hash": "667388982c6ddf987f2d865f3ba06949596bbfb154153fc7416a92156d0d5fc5"
   }
  }
 },
 "nbformat": 4,
 "nbformat_minor": 2
}
